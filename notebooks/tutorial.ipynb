"""
# HamiltonianCompiler Tutorial

This notebook provides an interactive tutorial for using the HamiltonianCompiler.

## Installation
```bash
pip install git+https://github.com/m-pedro/hamiltonian_compiler.git
```

## Basic Usage
"""

from hamiltoniancompiler import Hamiltonian, HamiltonianCompiler
import numpy as np

# Create a simple Hamiltonian
H = Hamiltonian(n_qubits=2)
H.add_term(1.0, "ZZ")
H.add_term(0.5, "XX")

print(H)

# Compile it
compiler = HamiltonianCompiler(optimization_level=3)
circuit = compiler.compile(H, time=1.0, error_budget=1e-3)

print(f"Circuit depth: {circuit.depth()}")
print(f"CNOT count: {circuit.count_ops()['cx']}")

